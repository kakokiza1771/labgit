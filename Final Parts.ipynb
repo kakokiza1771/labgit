{
  "nbformat": 4,
  "nbformat_minor": 0,
  "metadata": {
    "colab": {
      "provenance": []
    },
    "kernelspec": {
      "name": "python3",
      "display_name": "Python 3"
    },
    "language_info": {
      "name": "python"
    }
  },
  "cells": [
    {
      "cell_type": "markdown",
      "source": [
        "# 1: Single Inheritance\n",
        "ทดสอบความเข้าเรื่อง superclass และ subclass โดยให้นักศึกษาสร้างคลาส Vehicle โดยมีคุณสมบัติดังนี้\n",
        "\n",
        "Attribute:\n",
        "*   brand สำหรับเก็บยี่ห้อ\n",
        "*   speed สำหรับเก็บความเร็ว\n",
        "\n",
        "Method:\n",
        "*   display_info() แสดงยี่ห้อรถ และความเร็วในหน่วย km/h\n",
        "*   accelerate() เพิ่มความเร็วของรถตามจำนวนที่ระบุ และแสดงความเร็วใหม่ทางหน้าจอ\n",
        "\n",
        "จากนั้นสร้างซับคลาส Car โดยสืบทอดจากคลาส Vehicle โดยมี Attribute เพิ่มคือ\n",
        "\n",
        "*   fuel_type เพื่อเก็บชนิดของเชื้อเพลิง\n",
        "\n",
        "และมีเมธอดเพิ่มคือ\n",
        "\n",
        "*   apply_brake() ซึ่งลดความเร็วของรถตามจำนวนที่ระบุ โดยความเร็วของรถห้ามเป็นค่าติดลบ\n",
        "\n",
        "จากนั้นแก้ไข(overide)การแสดงผลของเมธอด display_info()ของ class Vehicle เพื่อเพิ่มส่วนของการแสดงผล fuel_type\n"
      ],
      "metadata": {
        "id": "q4yKy7AFZgJp"
      }
    },
    {
      "cell_type": "code",
      "execution_count": 11,
      "metadata": {
        "id": "H5VatYN0Y6kF"
      },
      "outputs": [],
      "source": [
        "class Vehicle:\n",
        "    def __init__(self, brand, speed):\n",
        "        self.brand = brand\n",
        "        self.speed = speed\n",
        "\n",
        "    def display_info(self):\n",
        "        print(f\"แบรนด์: {self.brand}, ความเร็ว: {self.speed} กิโลเมตรต่อชั่วโมง\")\n",
        "\n",
        "    def accelerate(self, amount):\n",
        "        self.speed += amount\n",
        "        print(f\"เพิ่มความเร็วเป็น: {self.speed} กิโลเมตรต่อชั่วโมง\")\n",
        "\n",
        "class Car(Vehicle):\n",
        "    def __init__(self, brand, speed, fuel_type):\n",
        "        super().__init__(brand, speed)\n",
        "        self.fuel_type = fuel_type\n",
        "\n",
        "    def apply_brake(self, amount):\n",
        "        self.speed -= amount\n",
        "        if self.speed < 0:\n",
        "            self.speed = 0\n",
        "        print(f\"ความเร็วหลังจากเบรคแล้ว: {self.speed} กิโลเมตรต่อชั่วโมง\")\n",
        "\n",
        "    def display_info(self):\n",
        "        super().display_info()\n",
        "        print(f\"ประเภทของเชื้อเพลิง: {self.fuel_type}\")"
      ]
    },
    {
      "cell_type": "markdown",
      "source": [
        "สร้างออปเจค Car และทดสอบการเรียกใช้เมธอด"
      ],
      "metadata": {
        "id": "pLB5ruXrdqh0"
      }
    },
    {
      "cell_type": "code",
      "source": [
        "car1 = Vehicle(\"Honda Civic Type R\", 80)\n",
        "car1.display_info()\n",
        "car1.accelerate(20)\n"
      ],
      "metadata": {
        "id": "ve8vk38NdptP",
        "colab": {
          "base_uri": "https://localhost:8080/"
        },
        "outputId": "3aa7e16d-a391-4b67-a4d2-6d6147b666a6"
      },
      "execution_count": 15,
      "outputs": [
        {
          "output_type": "stream",
          "name": "stdout",
          "text": [
            "แบรนด์: Honda Civic Type R, ความเร็ว: 80 กิโลเมตรต่อชั่วโมง\n",
            "เพิ่มความเร็วเป็น: 100 กิโลเมตรต่อชั่วโมง\n"
          ]
        }
      ]
    },
    {
      "cell_type": "markdown",
      "source": [
        "# 2: Multilevel Inheritance\n",
        "สร้างsubclass ElectricCar สืบทอดจากคลาส Car โดยเพิ่มแอตทริบิวต์\n",
        "* battery_capacity สำหรับเก็บความจุแบตเตอรี่\n",
        "\n",
        "และเมธอด\n",
        "* battery_status() เพื่อเช็คสถานะของแบตเตอรี่ หากมากกว่า 90 ให้แสดงสถานะ Full Battery หากอยู่ในช่วง 40-89 แสดงสถานะ Normal battery และหากต่ำกว่า 40 แสดงสถานะ Low battery\n",
        "\n",
        "จากนั้น overide เมธอด display_info() จากคลาส Car โดยเพิ่มส่วนของการแสดงผล battery_capacity ในหน่วย kWh"
      ],
      "metadata": {
        "id": "VOQtvWOpcnrY"
      }
    },
    {
      "cell_type": "code",
      "source": [
        "class ElectricCar(Car):\n",
        "    def __init__(self, brand, speed, fuel_type, battery_capacity):\n",
        "        super().__init__(brand, speed, fuel_type)\n",
        "        self.battery_capacity = battery_capacity\n",
        "\n",
        "    def battery_status(self):\n",
        "        if self.battery_capacity > 90:\n",
        "            print(\"แบตเตอร์รี่มีสถานะพลังงานเต็ม\")\n",
        "        elif 40 <= self.battery_capacity <= 89:\n",
        "            print(\"แบตเตอร์รี่มีสถานะพลังงานปกติ\")\n",
        "        else:\n",
        "            print(\"แบตเตอร์รี่มีสถานะพลังงานต่ำ\")\n",
        "\n",
        "    def display_info(self):\n",
        "        super().display_info()\n",
        "        print(f\"ความจุของแบตเตอร์รี่: {self.battery_capacity} กิโลวัตต์ต่อชั่วโมง\")"
      ],
      "metadata": {
        "id": "ZjAV506bfjKz"
      },
      "execution_count": 13,
      "outputs": []
    },
    {
      "cell_type": "code",
      "source": [
        "electric_car1 = ElectricCar(\"Tesla Model 3\", 120, \"Electric\", 95)\n",
        "electric_car1.display_info()\n",
        "electric_car1.accelerate(40)\n",
        "electric_car1.apply_brake(60)\n",
        "electric_car1.battery_status()"
      ],
      "metadata": {
        "colab": {
          "base_uri": "https://localhost:8080/"
        },
        "id": "UsCKWJSBcJym",
        "outputId": "224f8789-6264-4747-a329-076f76370602"
      },
      "execution_count": 14,
      "outputs": [
        {
          "output_type": "stream",
          "name": "stdout",
          "text": [
            "แบรนด์: Tesla Model 3, ความเร็ว: 120 กิโลเมตรต่อชั่วโมง\n",
            "ประเภทของเชื้อเพลิง: Electric\n",
            "ความจุของแบตเตอร์รี่: 95 กิโลวัตต์ต่อชั่วโมง\n",
            "เพิ่มความเร็วเป็น: 160 กิโลเมตรต่อชั่วโมง\n",
            "ความเร็วหลังจากเบรคแล้ว: 100 กิโลเมตรต่อชั่วโมง\n",
            "แบตเตอร์รี่มีสถานะพลังงานเต็ม\n"
          ]
        }
      ]
    },
    {
      "cell_type": "markdown",
      "source": [
        "#3: Multiple Inheritance\n",
        "\n",
        "สร้างคลาส GPS เพื่อเก็บพิกัด latitude และ longtitude และมีเมธอด\n",
        "* display_location() เพื่อแสดงพิกัด\n",
        "* update_location() เพื่ออัปเดตตำแหน่ง\n",
        "\n",
        "จากนั้นสร้างคลาส SmartElectricCar สำหรับรถไฟฟ้าอัจริยะโดยคลาส SmartElectricCar สืบทอดจากทั้ง ElectricCar และ GPS\n",
        "โดยมีเมธอดเพิ่มเติมคือ\n",
        "* self_driving_mode() เพื่อเปิดโหมดการขับขี่แบบ autopilot โดยแสดงผลข้อความ Autopilot activated หากความเร็วของรถต่ำกว่า 100 มิฉะนั้นจะแสดงข้อความ Manual driving required\n",
        "\n",
        "\n",
        "จากนั้นoverideเมธอด display_info()โดยเพิ่มการแสดงผลพิกัด GPS ของรถ\n",
        "\n"
      ],
      "metadata": {
        "id": "W9lEUrCOfknl"
      }
    },
    {
      "cell_type": "code",
      "source": [
        "class GPS:\n",
        "    def __init__(self, latitude, longitude):\n",
        "        self.latitude = latitude\n",
        "        self.longitude = longitude\n",
        "\n",
        "    def display_location(self):\n",
        "        print(f\"สถานะที่ตั้ง:ละติจูด {self.latitude}, ละติจูด {self.longitude}\")\n",
        "\n",
        "    def update_location(self, latitude, longitude):\n",
        "        self.latitude = latitude\n",
        "        self.longitude = longitude\n",
        "        print(f\"สถานะล่าสุดที่ตั้ง:ละติจูด {self.latitude}, ละติจูด {self.longitude}\")\n",
        "\n",
        "class SmartElectricCar(ElectricCar, GPS):\n",
        "    def __init__(self, brand, speed, fuel_type, battery_capacity, latitude, longitude):\n",
        "        ElectricCar.__init__(self, brand, speed, fuel_type, battery_capacity)\n",
        "        GPS.__init__(self, latitude, longitude)\n",
        "\n",
        "    def self_driving_mode(self):\n",
        "        if self.speed < 100:\n",
        "            print(\"ระบบขับรถอัตโนมัติกำลังใช้งานอยู่\")\n",
        "        else:\n",
        "            print(\"ต้องใช้ระบบขับด้วยตนเอง\")\n",
        "\n",
        "    def display_info(self):\n",
        "        super(ElectricCar, self).display_info()\n",
        "        self.display_location()"
      ],
      "metadata": {
        "id": "ttp83Ox6giQv"
      },
      "execution_count": 18,
      "outputs": []
    },
    {
      "cell_type": "markdown",
      "source": [
        "สร้างออปเจคคลาส SmartElectricCar จากนั้นทอสอบการใช้งานเมธอด"
      ],
      "metadata": {
        "id": "iZCS5bkVfju3"
      }
    },
    {
      "cell_type": "code",
      "source": [
        "smart_electric_car1 = SmartElectricCar(\"Tesla\", 65, \"Electric\", 95, 12.7563, 110.5018)\n",
        "smart_electric_car1.display_info()\n",
        "smart_electric_car1.accelerate(40)\n",
        "smart_electric_car1.apply_brake(60)\n",
        "smart_electric_car1.battery_status()\n",
        "smart_electric_car1.self_driving_mode()"
      ],
      "metadata": {
        "id": "Fk7HVNuOguo2",
        "colab": {
          "base_uri": "https://localhost:8080/"
        },
        "outputId": "fce80fbe-ced9-4901-ec14-c6f22cb42b1c"
      },
      "execution_count": 20,
      "outputs": [
        {
          "output_type": "stream",
          "name": "stdout",
          "text": [
            "แบรนด์: Tesla, ความเร็ว: 65 กิโลเมตรต่อชั่วโมง\n",
            "ประเภทของเชื้อเพลิง: Electric\n",
            "สถานะที่ตั้ง:ละติจูด 12.7563, ละติจูด 110.5018\n",
            "เพิ่มความเร็วเป็น: 105 กิโลเมตรต่อชั่วโมง\n",
            "ความเร็วหลังจากเบรคแล้ว: 45 กิโลเมตรต่อชั่วโมง\n",
            "แบตเตอร์รี่มีสถานะพลังงานเต็ม\n",
            "ระบบขับรถอัตโนมัติกำลังใช้งานอยู่\n"
          ]
        }
      ]
    },
    {
      "cell_type": "markdown",
      "source": [
        "# Final Challenge: ระบบจัดการร้านค้า\n",
        "\n",
        "จงออกแบบและสร้างคลาสสำหรับสินค้าในร้านค้าสามประเภท Electronics Clothing และ Grocery โดยใช้หลักการ Inheritance\n",
        "1. สินค้าประเภท Electronics จะมี หมายเลขSerialNumber ชื่อ ราคา ประเภทอุปกรณ์และจำนวนวันรับประกันหลังการซื้อ\n",
        "2. สินค้าประเภท Clothing จะมี Serial Number ชื่อ ราคา ขนาด และ แบรนด์\n",
        "3. สินค้าประเภท Grocery จะมี Serial Number ชื่อ ราคา และวันหมดอายุ\n",
        "\n",
        "สร้างคลาสระบบจัดการร้านค้า Store โดยในร้านค้าจะประกอบไปด้วยรายการสินค้าทั้งหมด โดยผู้ดูแลร้านสามารถ\n",
        "\n",
        "*   เพิ่มสินค้าได้โดย Serial Number ของสินค้าใหม่ ห้ามซ้ำกับสินค้าเดิมในร้าน\n",
        "*   แสดงผลรายละเอียดสินค้าทั้งหมดในร้านได้\n",
        "*   ลดราคาสินค้าในร้านได้ ตามประเภทของสินค้า ตามจำนวน % ที่กำหนด เช่น ลดราคาเสื้อผ้าทั้งหมด 30%\n",
        "\n",
        "\n",
        "\n",
        "\n",
        "\n"
      ],
      "metadata": {
        "id": "NaUxdEF9ibGV"
      }
    },
    {
      "cell_type": "code",
      "source": [
        "class Product:\n",
        "    def __init__(self, serial_number, name, price):\n",
        "        self.serial_number = serial_number\n",
        "        self.name = name\n",
        "        self.price = price\n",
        "\n",
        "    def get_details(self):\n",
        "        return f\"หมายเลข Serial: {self.serial_number}, ชื่อ: {self.name}, ราคา: {self.price}\"\n",
        "\n",
        "class Electronics(Product):\n",
        "    def __init__(self, serial_number, name, price, device_type, warranty_days):\n",
        "        super().__init__(serial_number, name, price)\n",
        "        self.device_type = device_type\n",
        "        self.warranty_days = warranty_days\n",
        "\n",
        "    def get_details(self):\n",
        "        return (super().get_details() + f\", ประเภทอุปกรณ์: {self.device_type}, การรับประกัน: {self.warranty_days} วัน\")\n",
        "\n",
        "class Clothing(Product):\n",
        "    def __init__(self, serial_number, name, price, size, brand):\n",
        "        super().__init__(serial_number, name, price)\n",
        "        self.size = size\n",
        "        self.brand = brand\n",
        "\n",
        "    def get_details(self):\n",
        "        return (super().get_details() + f\", ขนาด: {self.size}, แบรนด์: {self.brand}\")\n",
        "\n",
        "class Grocery(Product):\n",
        "    def __init__(self, serial_number, name, price, expiration_date):\n",
        "        super().__init__(serial_number, name, price)\n",
        "        self.expiration_date = expiration_date\n",
        "\n",
        "    def get_details(self):\n",
        "        return (super().get_details() + f\", วันหมดอายุ: {self.expiration_date}\")\n",
        "\n",
        "class Store:\n",
        "    def __init__(self):\n",
        "        self.products = []\n",
        "\n",
        "    def add_product(self, product):\n",
        "        if any(p.serial_number == product.serial_number for p in self.products):\n",
        "            print(\"ข้อผิดพลาด: หมายเลข Serial ซ้ำกับสินค้าที่ยังมีอยู่ในร้าน!\")\n",
        "        else:\n",
        "            self.products.append(product)\n",
        "            print(f\"สินค้าชื่อ {product.name} ถูกเพิ่มในร้านแล้ว.\")\n",
        "\n",
        "    def display_products(self):\n",
        "        if self.products:\n",
        "            for product in self.products:\n",
        "                print(product.get_details())\n",
        "        else:\n",
        "            print(\"ยังไม่มีสินค้าในร้าน.\")\n",
        "\n",
        "    def apply_discount(self, category, discount_percentage):\n",
        "        for product in self.products:\n",
        "            if isinstance(product, category):\n",
        "                old_price = product.price\n",
        "                product.price -= (product.price * discount_percentage / 100)\n",
        "                print(f\"ลดราคาสินค้า {product.name}: {old_price} -> {product.price}\")"
      ],
      "metadata": {
        "id": "SgzOSGx4gdz3"
      },
      "execution_count": 27,
      "outputs": []
    },
    {
      "cell_type": "code",
      "source": [
        "store = Store()\n",
        "\n",
        "electronics1 = Electronics(\"E123\", \"สมาร์ทโฟน\", 10000, \"มือถือ\", 365)\n",
        "clothing1 = Clothing(\"C456\", \"เสื้อยืด\", 500, \"M\", \"BrandA\")\n",
        "grocery1 = Grocery(\"G789\", \"แอปเปิ้ล\", 30, \"2025-12-31\")\n",
        "\n",
        "store.add_product(electronics1)\n",
        "store.add_product(clothing1)\n",
        "store.add_product(grocery1)\n",
        "\n",
        "print(\"\\nรายการสินค้าทั้งหมดในร้าน:\")\n",
        "store.display_products()\n",
        "\n",
        "print(\"\\nลดราคาสินค้าประเภทเสื้อผ้า (ลด 30%):\")\n",
        "store.apply_discount(Clothing, 30)\n",
        "\n",
        "print(\"\\nรายการสินค้าหลังจากลดราคา:\")\n",
        "store.display_products()"
      ],
      "metadata": {
        "id": "PbzPMLBbh2ae",
        "outputId": "712c84bf-7a1b-45e8-a0e9-94c8665f16dc",
        "colab": {
          "base_uri": "https://localhost:8080/"
        }
      },
      "execution_count": 26,
      "outputs": [
        {
          "output_type": "stream",
          "name": "stdout",
          "text": [
            "สินค้าชื่อ สมาร์ทโฟน ถูกเพิ่มในร้านแล้ว.\n",
            "สินค้าชื่อ เสื้อยืด ถูกเพิ่มในร้านแล้ว.\n",
            "สินค้าชื่อ แอปเปิ้ล ถูกเพิ่มในร้านแล้ว.\n",
            "\n",
            "รายการสินค้าทั้งหมดในร้าน:\n",
            "หมายเลข Serial: E123, ชื่อ: สมาร์ทโฟน, ราคา: 10000, ประเภทอุปกรณ์: มือถือ, การรับประกัน: 365 วัน\n",
            "หมายเลข Serial: C456, ชื่อ: เสื้อยืด, ราคา: 500, ขนาด: M, แบรนด์: BrandA\n",
            "หมายเลข Serial: G789, ชื่อ: แอปเปิ้ล, ราคา: 30, วันหมดอายุ: 2025-12-31\n",
            "\n",
            "ลดราคาสินค้าประเภทเสื้อผ้า (ลด 30%):\n",
            "ลดราคาสินค้า เสื้อยืด: 500 -> 350.0\n",
            "\n",
            "รายการสินค้าหลังจากลดราคา:\n",
            "หมายเลข Serial: E123, ชื่อ: สมาร์ทโฟน, ราคา: 10000, ประเภทอุปกรณ์: มือถือ, การรับประกัน: 365 วัน\n",
            "หมายเลข Serial: C456, ชื่อ: เสื้อยืด, ราคา: 350.0, ขนาด: M, แบรนด์: BrandA\n",
            "หมายเลข Serial: G789, ชื่อ: แอปเปิ้ล, ราคา: 30, วันหมดอายุ: 2025-12-31\n"
          ]
        }
      ]
    }
  ]
}